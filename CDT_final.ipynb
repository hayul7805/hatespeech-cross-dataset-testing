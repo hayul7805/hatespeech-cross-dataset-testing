{
  "cells": [
    {
      "cell_type": "code",
      "execution_count": null,
      "metadata": {
        "colab": {
          "base_uri": "https://localhost:8080/"
        },
        "id": "faABFpyrfhE_",
        "outputId": "86874ea9-d6f0-4d67-885d-25565dc31243"
      },
      "outputs": [
        {
          "name": "stdout",
          "output_type": "stream",
          "text": [
            "Looking in indexes: https://pypi.org/simple, https://us-python.pkg.dev/colab-wheels/public/simple/\n",
            "Collecting transformers\n",
            "  Downloading transformers-4.23.1-py3-none-any.whl (5.3 MB)\n",
            "\u001b[K     |████████████████████████████████| 5.3 MB 5.2 MB/s \n",
            "\u001b[?25hRequirement already satisfied: regex!=2019.12.17 in /usr/local/lib/python3.7/dist-packages (from transformers) (2022.6.2)\n",
            "Collecting huggingface-hub<1.0,>=0.10.0\n",
            "  Downloading huggingface_hub-0.10.1-py3-none-any.whl (163 kB)\n",
            "\u001b[K     |████████████████████████████████| 163 kB 75.9 MB/s \n",
            "\u001b[?25hRequirement already satisfied: requests in /usr/local/lib/python3.7/dist-packages (from transformers) (2.23.0)\n",
            "Requirement already satisfied: filelock in /usr/local/lib/python3.7/dist-packages (from transformers) (3.8.0)\n",
            "Requirement already satisfied: packaging>=20.0 in /usr/local/lib/python3.7/dist-packages (from transformers) (21.3)\n",
            "Collecting tokenizers!=0.11.3,<0.14,>=0.11.1\n",
            "  Downloading tokenizers-0.13.1-cp37-cp37m-manylinux_2_17_x86_64.manylinux2014_x86_64.whl (7.6 MB)\n",
            "\u001b[K     |████████████████████████████████| 7.6 MB 84.5 MB/s \n",
            "\u001b[?25hRequirement already satisfied: tqdm>=4.27 in /usr/local/lib/python3.7/dist-packages (from transformers) (4.64.1)\n",
            "Requirement already satisfied: pyyaml>=5.1 in /usr/local/lib/python3.7/dist-packages (from transformers) (6.0)\n",
            "Requirement already satisfied: numpy>=1.17 in /usr/local/lib/python3.7/dist-packages (from transformers) (1.21.6)\n",
            "Requirement already satisfied: importlib-metadata in /usr/local/lib/python3.7/dist-packages (from transformers) (4.13.0)\n",
            "Requirement already satisfied: typing-extensions>=3.7.4.3 in /usr/local/lib/python3.7/dist-packages (from huggingface-hub<1.0,>=0.10.0->transformers) (4.1.1)\n",
            "Requirement already satisfied: pyparsing!=3.0.5,>=2.0.2 in /usr/local/lib/python3.7/dist-packages (from packaging>=20.0->transformers) (3.0.9)\n",
            "Requirement already satisfied: zipp>=0.5 in /usr/local/lib/python3.7/dist-packages (from importlib-metadata->transformers) (3.9.0)\n",
            "Requirement already satisfied: chardet<4,>=3.0.2 in /usr/local/lib/python3.7/dist-packages (from requests->transformers) (3.0.4)\n",
            "Requirement already satisfied: urllib3!=1.25.0,!=1.25.1,<1.26,>=1.21.1 in /usr/local/lib/python3.7/dist-packages (from requests->transformers) (1.24.3)\n",
            "Requirement already satisfied: idna<3,>=2.5 in /usr/local/lib/python3.7/dist-packages (from requests->transformers) (2.10)\n",
            "Requirement already satisfied: certifi>=2017.4.17 in /usr/local/lib/python3.7/dist-packages (from requests->transformers) (2022.9.24)\n",
            "Installing collected packages: tokenizers, huggingface-hub, transformers\n",
            "Successfully installed huggingface-hub-0.10.1 tokenizers-0.13.1 transformers-4.23.1\n",
            "Looking in indexes: https://pypi.org/simple, https://us-python.pkg.dev/colab-wheels/public/simple/\n",
            "Requirement already satisfied: easydict in /usr/local/lib/python3.7/dist-packages (1.10)\n"
          ]
        }
      ],
      "source": [
        "!pip install transformers\n",
        "!pip install easydict"
      ]
    },
    {
      "cell_type": "code",
      "execution_count": null,
      "metadata": {
        "colab": {
          "base_uri": "https://localhost:8080/"
        },
        "id": "nUQL2w40kwHH",
        "outputId": "af22980d-5edf-4112-8c06-5985fae88cca"
      },
      "outputs": [
        {
          "name": "stdout",
          "output_type": "stream",
          "text": [
            "/content/drive/MyDrive/CDT-final\n"
          ]
        }
      ],
      "source": [
        "%cd /content/drive/MyDrive/CDT-final"
      ]
    },
    {
      "cell_type": "code",
      "execution_count": null,
      "metadata": {
        "colab": {
          "base_uri": "https://localhost:8080/"
        },
        "id": "r49TBV6nlBMJ",
        "outputId": "a6d53183-2b85-4997-9db6-c82d3896c74c"
      },
      "outputs": [
        {
          "name": "stdout",
          "output_type": "stream",
          "text": [
            "data  results  wandb\n"
          ]
        }
      ],
      "source": [
        "!ls"
      ]
    },
    {
      "cell_type": "code",
      "execution_count": null,
      "metadata": {
        "colab": {
          "base_uri": "https://localhost:8080/"
        },
        "id": "GJik-L__S_6Z",
        "outputId": "7d3a0390-9d8d-40d6-f07d-b25b0602a0b7"
      },
      "outputs": [
        {
          "name": "stdout",
          "output_type": "stream",
          "text": [
            "\u001b[K     |████████████████████████████████| 1.9 MB 5.1 MB/s \n",
            "\u001b[K     |████████████████████████████████| 182 kB 66.2 MB/s \n",
            "\u001b[K     |████████████████████████████████| 162 kB 68.6 MB/s \n",
            "\u001b[K     |████████████████████████████████| 63 kB 2.1 MB/s \n",
            "\u001b[K     |████████████████████████████████| 162 kB 68.8 MB/s \n",
            "\u001b[K     |████████████████████████████████| 158 kB 82.6 MB/s \n",
            "\u001b[K     |████████████████████████████████| 157 kB 86.8 MB/s \n",
            "\u001b[K     |████████████████████████████████| 157 kB 78.1 MB/s \n",
            "\u001b[K     |████████████████████████████████| 157 kB 68.7 MB/s \n",
            "\u001b[K     |████████████████████████████████| 157 kB 68.1 MB/s \n",
            "\u001b[K     |████████████████████████████████| 157 kB 69.9 MB/s \n",
            "\u001b[K     |████████████████████████████████| 157 kB 83.5 MB/s \n",
            "\u001b[K     |████████████████████████████████| 157 kB 90.3 MB/s \n",
            "\u001b[K     |████████████████████████████████| 156 kB 85.4 MB/s \n",
            "\u001b[?25h  Building wheel for pathtools (setup.py) ... \u001b[?25l\u001b[?25hdone\n"
          ]
        }
      ],
      "source": [
        "!pip install wandb -qU"
      ]
    },
    {
      "cell_type": "code",
      "execution_count": null,
      "metadata": {
        "colab": {
          "base_uri": "https://localhost:8080/",
          "height": 106
        },
        "id": "unWd1bYNTEba",
        "outputId": "269b7429-fa2c-43c6-ea49-180a80282b1a"
      },
      "outputs": [
        {
          "name": "stderr",
          "output_type": "stream",
          "text": [
            "ERROR:wandb.jupyter:Failed to detect the name of this notebook, you can set it manually with the WANDB_NOTEBOOK_NAME environment variable to enable code saving.\n"
          ]
        },
        {
          "data": {
            "application/javascript": "\n        window._wandbApiKey = new Promise((resolve, reject) => {\n            function loadScript(url) {\n            return new Promise(function(resolve, reject) {\n                let newScript = document.createElement(\"script\");\n                newScript.onerror = reject;\n                newScript.onload = resolve;\n                document.body.appendChild(newScript);\n                newScript.src = url;\n            });\n            }\n            loadScript(\"https://cdn.jsdelivr.net/npm/postmate/build/postmate.min.js\").then(() => {\n            const iframe = document.createElement('iframe')\n            iframe.style.cssText = \"width:0;height:0;border:none\"\n            document.body.appendChild(iframe)\n            const handshake = new Postmate({\n                container: iframe,\n                url: 'https://wandb.ai/authorize'\n            });\n            const timeout = setTimeout(() => reject(\"Couldn't auto authenticate\"), 5000)\n            handshake.then(function(child) {\n                child.on('authorize', data => {\n                    clearTimeout(timeout)\n                    resolve(data)\n                });\n            });\n            })\n        });\n    ",
            "text/plain": [
              "<IPython.core.display.Javascript object>"
            ]
          },
          "metadata": {},
          "output_type": "display_data"
        },
        {
          "name": "stderr",
          "output_type": "stream",
          "text": [
            "\u001b[34m\u001b[1mwandb\u001b[0m: Appending key for api.wandb.ai to your netrc file: /root/.netrc\n"
          ]
        },
        {
          "data": {
            "text/plain": [
              "True"
            ]
          },
          "execution_count": 6,
          "metadata": {},
          "output_type": "execute_result"
        }
      ],
      "source": [
        "# Log in to your W&B account\n",
        "import wandb\n",
        "wandb.login()"
      ]
    },
    {
      "cell_type": "code",
      "execution_count": null,
      "metadata": {
        "id": "tQDwpH_yjMd0"
      },
      "outputs": [],
      "source": [
        "import os\n",
        "import random\n",
        "import time\n",
        "import datetime\n",
        "import torch\n",
        "import argparse\n",
        "from glob import glob\n",
        "\n",
        "from tqdm import tqdm\n",
        "from easydict import EasyDict\n",
        "import pandas as pd\n",
        "import numpy as np\n",
        "from fastprogress.fastprogress import master_bar, progress_bar\n",
        "\n",
        "from keras_preprocessing.sequence import pad_sequences\n",
        "import seaborn as sns\n",
        "import matplotlib.pyplot as plt\n",
        "\n",
        "from transformers import AutoTokenizer, AutoModelForSequenceClassification, AdamW, get_linear_schedule_with_warmup\n",
        "from torch.utils.data import TensorDataset, DataLoader, RandomSampler, SequentialSampler, WeightedRandomSampler\n",
        "\n",
        "from sklearn.model_selection import train_test_split\n",
        "from sklearn.metrics import accuracy_score, confusion_matrix, f1_score"
      ]
    },
    {
      "cell_type": "code",
      "execution_count": null,
      "metadata": {
        "id": "ybrea3l-T3YX"
      },
      "outputs": [],
      "source": [
        "args = EasyDict({'raw_data': './data/Unsmile/Unsmile_train.tsv',\n",
        "                 'domain' : 'Unsmile',\n",
        "                 'testing_domain' : './data/HateScore/HateScore_train.tsv',\n",
        "                 'test' : 'HateScore',\n",
        "                 'max_len' : 128,\n",
        "                 'batch_size' : 64,\n",
        "                 'epochs' : 10,\n",
        "                 'lr' : 5e-5,\n",
        "                 'weight_decay' : 0.5,\n",
        "                 'seed_val': 42,\n",
        "                 'waiting' : 0,\n",
        "                 'patient' : 3,\n",
        "                 'weights_clean' : 0,\n",
        "                 'weights_hate' : 0 \n",
        "})"
      ]
    },
    {
      "cell_type": "code",
      "execution_count": null,
      "metadata": {
        "id": "oszZUtwyjE1_"
      },
      "outputs": [],
      "source": [
        "def load_data(args, mode = None):\n",
        "    if mode == None:\n",
        "      temp = pd.read_csv(args.raw_data, sep='\\t')\n",
        "    else:\n",
        "      temp = pd.read_csv(args.testing_domain, sep='\\t')\n",
        "      print(\"Test with : \", args.test)\n",
        "    document = temp['comment'].tolist()\n",
        "    labels = temp['hate'].tolist()\n",
        "    return document, labels\n",
        "\n",
        "def add_special_token(document):\n",
        "    added = [\"[CLS]\" + str(sentence) + \"[SEP]\" for sentence in document]\n",
        "    return added\n",
        "\n",
        "def tokenization(document, mode=\"huggingface\"):\n",
        "    if mode == \"huggingface\":\n",
        "        tokenizer = AutoTokenizer.from_pretrained(\"beomi/KcELECTRA-base\")\n",
        "    else:\n",
        "        tokenizer = BertTokenizer.from_pretrained(\n",
        "                'bert-base-multilingual-cased', \n",
        "                do_lower_case=False,\n",
        "                )\n",
        "    tokenized = [tokenizer.tokenize(sentence) for sentence in document]\n",
        "    ids = [tokenizer.convert_tokens_to_ids(sentence) for sentence in tokenized]\n",
        "    return ids\n",
        "\n",
        "def padding(ids, args):\n",
        "    ids = pad_sequences(ids, maxlen=args.max_len, dtype=\"long\", truncating='post', padding='post')\n",
        "    return ids\n",
        "\n",
        "def attention_mask(ids):\n",
        "    masks = []\n",
        "    for id in ids:\n",
        "        mask = [float(i>0) for i in id]\n",
        "        masks.append(mask)\n",
        "    return masks\n",
        "\n",
        "def preprocess(args, mode = None):\n",
        "    document, labels = load_data(args, mode)\n",
        "    document = add_special_token(document)\n",
        "    ids = tokenization(document)\n",
        "    ids = padding(ids, args)\n",
        "    masks = attention_mask(ids)\n",
        "    del document\n",
        "    return ids, masks, labels\n",
        "\n",
        "def train_test_data_split(ids, masks, labels):\n",
        "    train_ids, test_ids, train_labels, test_labels = train_test_split(ids, labels, random_state=42, test_size=0.3)\n",
        "    train_masks, test_masks, _, _ = train_test_split(masks, ids, random_state=42, test_size=0.3)\n",
        "    return train_ids, train_masks, train_labels, test_ids, test_masks, test_labels\n",
        "\n",
        "def build_dataloader(ids, masks, label, args, mode = None):\n",
        "    dataloader = TensorDataset(torch.tensor(ids), torch.tensor(masks), torch.tensor(label))\n",
        "    if mode == 'train':\n",
        "      class_counts = [label.count(0), label.count(1)]\n",
        "      num_samples = sum(class_counts) \n",
        "\n",
        "      class_weights = [num_samples / class_counts[i] for i in range(len(class_counts))] \n",
        "\n",
        "      weights = [class_weights[label[i]] for i in range(int(num_samples))] \n",
        "      WRsampler = WeightedRandomSampler(torch.DoubleTensor(weights), int(num_samples))\n",
        "      print(f\"class_weights for 0 : {class_weights[0]}\")\n",
        "      print(f\"class_weights for 1 : {class_weights[1]}\")\n",
        "      \n",
        "      args.weights_clean = class_weights[0]\n",
        "      args.weights_hate = class_weights[1]\n",
        "\n",
        "      dataloader = DataLoader(dataloader, sampler = WRsampler, batch_size=args.batch_size)\n",
        "    elif mode == 'inference':\n",
        "      dataloader = DataLoader(dataloader, sampler = SequentialSampler(dataloader), batch_size=args.batch_size)\n",
        "    else:\n",
        "      dataloader = DataLoader(dataloader, sampler = RandomSampler(dataloader), batch_size=args.batch_size)\n",
        "    return dataloader\n",
        "        \n",
        "def build_model(args):\n",
        "    model = AutoModelForSequenceClassification.from_pretrained(\"beomi/KcELECTRA-base\")\n",
        "    if torch.cuda.is_available():\n",
        "        device = torch.device(\"cuda\")\n",
        "        print(f\"{torch.cuda.get_device_name(0)} available\")\n",
        "        model = model.cuda()\n",
        "    else:\n",
        "        device = torch.device(\"cpu\")\n",
        "        print(\"no GPU available\")\n",
        "        model = model\n",
        "    return model, device\n",
        "\n",
        "def test(test_dataloader, model, device):\n",
        "    model.eval()\n",
        "    total_loss, total_accuracy, total_f1 = 0, 0, 0\n",
        "    for batch in tqdm(test_dataloader):\n",
        "        batch = tuple(index.to(device) for index in batch)\n",
        "        ids, masks, labels = batch\n",
        "        with torch.no_grad():\n",
        "            outputs = model(ids, token_type_ids=None, attention_mask=masks, labels=labels)\n",
        "        pred = [torch.argmax(logit).cpu().detach().item() for logit in outputs.logits]\n",
        "        true = [label for label in labels.cpu().numpy()]\n",
        "        \n",
        "        loss = outputs.loss\n",
        "        total_loss += loss.item()\n",
        "        \n",
        "        accuracy = accuracy_score(true, pred)\n",
        "        f1 = f1_score(true, pred)\n",
        "\n",
        "        total_accuracy += accuracy\n",
        "        total_f1 += f1\n",
        "    \n",
        "    avg_val_loss = total_loss / len(test_dataloader)\n",
        "    avg_accuracy = total_accuracy/len(test_dataloader)\n",
        "    avg_f1 = total_f1/len(test_dataloader)\n",
        "    \n",
        "    print(f\"Epoch Average val loss :  {avg_val_loss}\")\n",
        "    print(f\"Epoch Average val accuracy : {avg_accuracy: .2f}\")\n",
        "    print(f\"Epoch Average val f1 : {avg_f1: .2f}\")\n",
        "\n",
        "    return avg_val_loss, avg_accuracy, avg_f1\n",
        "\n",
        "def train(train_dataloader, test_dataloader, args):\n",
        "\n",
        "    model, device = build_model(args)\n",
        "    optimizer = AdamW(model.parameters(), lr = args.lr, eps=1e-8, weight_decay=args.weight_decay)\n",
        "    scheduler = get_linear_schedule_with_warmup(optimizer, num_warmup_steps=0, num_training_steps=len(train_dataloader)*args.epochs)\n",
        "    random.seed(args.seed_val)\n",
        "    np.random.seed(args.seed_val)\n",
        "    torch.manual_seed(args.seed_val)\n",
        "    torch.cuda.manual_seed_all(args.seed_val)\n",
        "    model.zero_grad()\n",
        "\n",
        "    es = [] # val_losses for early stopping\n",
        "    \n",
        "    for epoch in range(0, args.epochs):\n",
        "        model.train()\n",
        "        total_loss, total_accuracy, total_f1 = 0, 0, 0\n",
        "        print(\"-\"*30)\n",
        "        print(f\"Epoch : {epoch+1} in {args.epochs}\")\n",
        "        for step, batch in enumerate(\n",
        "            tqdm(train_dataloader,\n",
        "                desc=' - (Training)  ',\n",
        "                leave=False,\n",
        "                mininterval=1)):\n",
        "            batch = tuple(index.to(device) for index in batch)\n",
        "            ids, masks, labels, = batch\n",
        "\n",
        "            outputs = model(ids, token_type_ids=None, attention_mask=masks, labels=labels)\n",
        "            loss = outputs.loss\n",
        "            total_loss += loss.item()\n",
        "\n",
        "            pred = [torch.argmax(logit).cpu().detach().item() for logit in outputs.logits]\n",
        "            true = [label for label in labels.cpu().numpy()]\n",
        "            \n",
        "            accuracy = accuracy_score(true, pred)\n",
        "            f1 = f1_score(true, pred)\n",
        "            \n",
        "            total_accuracy += accuracy\n",
        "            total_f1 += f1\n",
        "\n",
        "            loss.backward()\n",
        "            torch.nn.utils.clip_grad_norm_(model.parameters(), 1.0)\n",
        "            optimizer.step()\n",
        "            scheduler.step()\n",
        "            model.zero_grad()\n",
        "        \n",
        "        avg_loss = total_loss / len(train_dataloader)\n",
        "        avg_accuracy = total_accuracy/len(train_dataloader)\n",
        "        avg_f1 = total_f1/len(train_dataloader)\n",
        "\n",
        "        print(f\"Epoch Average train loss :  {avg_loss}\")\n",
        "        print(f\"Epoch Average train accuracy :  {avg_accuracy: .2f}\")\n",
        "        print(f\"Epoch Average train f1 score :  {avg_f1: .2f}\")\n",
        "        \n",
        "\n",
        "        avg_val_loss, acc, f_score = test(test_dataloader, model, device)\n",
        "        es.append(avg_val_loss)\n",
        "        \n",
        "        metrics = {\n",
        "                  \"train/loss\": avg_loss, \n",
        "                  \"train/accuracy\": avg_accuracy,\n",
        "                  \"train/f1 score\": avg_f1\n",
        "                  }\n",
        "        val_metrics = {\n",
        "                  \"val/loss\": avg_val_loss, \n",
        "                  \"val/accuracy\": acc,\n",
        "                  \"val/f1 score\": f_score\n",
        "                  }\n",
        "\n",
        "        wandb.log({**metrics, **val_metrics})\n",
        "\n",
        "\n",
        "        args.waiting += 1\n",
        "\n",
        "        if es[-1] <= min(es):\n",
        "            args.waiting = 0\n",
        "            ckpt_path = \"./results/\" + args.domain + '/ckpt'\n",
        "            os.makedirs(ckpt_path, exist_ok=True)\n",
        "            f = os.path.join(ckpt_path, \n",
        "                            f'evalF1_{f_score*100:.0f}_evalAcc_{acc*100:.0f}_epoch_{epoch+1}_{args.lr}_{args.weight_decay}.ckpt')\n",
        "            torch.save(model.state_dict(), f)\n",
        "            print('\\t[!] The best checkpoint is updated.')\n",
        "        \n",
        "        if args.waiting > args.patient:\n",
        "          print('\\t[!] Early Stop')\n",
        "          break   \n",
        "    #wandb.finish()"
      ]
    },
    {
      "cell_type": "code",
      "execution_count": null,
      "metadata": {
        "id": "Q8xZjOmoE3bG"
      },
      "outputs": [],
      "source": [
        "def make_inputs(args):\n",
        "    ids, masks, labels = preprocess(args)\n",
        "    train_ids, train_masks, train_labels, test_ids, test_masks, test_labels = train_test_data_split(ids, masks, labels)\n",
        "    train_dataloader = build_dataloader(train_ids, train_masks, train_labels, args, mode = 'train')\n",
        "    test_dataloader = build_dataloader(test_ids, test_masks, test_labels, args)\n",
        "    \n",
        "    return train_dataloader, test_dataloader"
      ]
    },
    {
      "cell_type": "code",
      "execution_count": null,
      "metadata": {
        "colab": {
          "base_uri": "https://localhost:8080/"
        },
        "id": "9X3NnoRikpHi",
        "outputId": "8a4b7cde-4198-4ff0-c85b-330055d12f73"
      },
      "outputs": [
        {
          "name": "stdout",
          "output_type": "stream",
          "text": [
            "class_weights for 0 : 2.2385581206966383\n",
            "class_weights for 1 : 1.8073904512753434\n"
          ]
        }
      ],
      "source": [
        "train_dataloader, test_dataloader = make_inputs(args)"
      ]
    },
    {
      "cell_type": "code",
      "execution_count": null,
      "metadata": {
        "colab": {
          "base_uri": "https://localhost:8080/",
          "height": 90
        },
        "id": "gDyJ7PcI7mlf",
        "outputId": "1060469f-fb3b-43c3-995e-d78e4a61b760"
      },
      "outputs": [
        {
          "data": {
            "text/html": [
              "Tracking run with wandb version 0.13.4"
            ],
            "text/plain": [
              "<IPython.core.display.HTML object>"
            ]
          },
          "metadata": {},
          "output_type": "display_data"
        },
        {
          "data": {
            "text/html": [
              "Run data is saved locally in <code>/content/drive/MyDrive/CDT-final/wandb/run-20221016_164546-3d552ey0</code>"
            ],
            "text/plain": [
              "<IPython.core.display.HTML object>"
            ]
          },
          "metadata": {},
          "output_type": "display_data"
        },
        {
          "data": {
            "text/html": [
              "Syncing run <strong><a href=\"https://wandb.ai/haypark/Cross%20dataset%20testing/runs/3d552ey0\" target=\"_blank\">Training_Beep</a></strong> to <a href=\"https://wandb.ai/haypark/Cross%20dataset%20testing\" target=\"_blank\">Weights & Biases</a> (<a href=\"https://wandb.me/run\" target=\"_blank\">docs</a>)<br/>"
            ],
            "text/plain": [
              "<IPython.core.display.HTML object>"
            ]
          },
          "metadata": {},
          "output_type": "display_data"
        },
        {
          "data": {
            "text/html": [
              "<button onClick=\"this.nextSibling.style.display='block';this.style.display='none';\">Display W&B run</button><iframe src=\"https://wandb.ai/haypark/Cross%20dataset%20testing/runs/3d552ey0?jupyter=true\" style=\"border:none;width:100%;height:420px;display:none;\"></iframe>"
            ],
            "text/plain": [
              "<wandb.sdk.wandb_run.Run at 0x7f56d413bcd0>"
            ]
          },
          "execution_count": 207,
          "metadata": {},
          "output_type": "execute_result"
        }
      ],
      "source": [
        "wandb.init(\n",
        "      # Set the project where this run will be logged\n",
        "      project=\"Cross dataset testing\", \n",
        "      # We pass a run name (otherwise it’ll be randomly assigned, like sunshine-lollypop-10)\n",
        "      name=f\"Training_{args.domain}\", \n",
        "      # Track hyperparameters and run metadata\n",
        "      config={\n",
        "      \"learning_rate\": args.lr,\n",
        "      \"weight_decay\" : args.weight_decay,\n",
        "      \"architecture\": \"KcELECTRA-base\",\n",
        "      \"batch_size\": args.batch_size,\n",
        "      \"epochs\": args.epochs,\n",
        "      \"weights_clean\" : args.weights_clean,\n",
        "      \"weights_hate\" : args.weights_hate\n",
        "      })"
      ]
    },
    {
      "cell_type": "code",
      "execution_count": null,
      "metadata": {
        "colab": {
          "base_uri": "https://localhost:8080/",
          "height": 1000
        },
        "id": "1sGw0QBCFOuk",
        "outputId": "cffcf5bf-9c87-41ea-f500-6822176ccf9b"
      },
      "outputs": [
        {
          "name": "stderr",
          "output_type": "stream",
          "text": [
            "Some weights of the model checkpoint at beomi/KcELECTRA-base were not used when initializing ElectraForSequenceClassification: ['discriminator_predictions.dense_prediction.weight', 'discriminator_predictions.dense.weight', 'discriminator_predictions.dense_prediction.bias', 'discriminator_predictions.dense.bias']\n",
            "- This IS expected if you are initializing ElectraForSequenceClassification from the checkpoint of a model trained on another task or with another architecture (e.g. initializing a BertForSequenceClassification model from a BertForPreTraining model).\n",
            "- This IS NOT expected if you are initializing ElectraForSequenceClassification from the checkpoint of a model that you expect to be exactly identical (initializing a BertForSequenceClassification model from a BertForSequenceClassification model).\n",
            "Some weights of ElectraForSequenceClassification were not initialized from the model checkpoint at beomi/KcELECTRA-base and are newly initialized: ['classifier.dense.weight', 'classifier.out_proj.bias', 'classifier.out_proj.weight', 'classifier.dense.bias']\n",
            "You should probably TRAIN this model on a down-stream task to be able to use it for predictions and inference.\n",
            "/usr/local/lib/python3.7/dist-packages/transformers/optimization.py:310: FutureWarning: This implementation of AdamW is deprecated and will be removed in a future version. Use the PyTorch implementation torch.optim.AdamW instead, or set `no_deprecation_warning=True` to disable this warning\n",
            "  FutureWarning,\n"
          ]
        },
        {
          "name": "stdout",
          "output_type": "stream",
          "text": [
            "A100-SXM4-40GB available\n",
            "------------------------------\n",
            "Epoch : 1 in 10\n"
          ]
        },
        {
          "name": "stderr",
          "output_type": "stream",
          "text": []
        },
        {
          "name": "stdout",
          "output_type": "stream",
          "text": [
            "Epoch Average train loss :  0.4252134249813255\n",
            "Epoch Average train accuracy :   0.79\n",
            "Epoch Average train f1 score :   0.76\n"
          ]
        },
        {
          "name": "stderr",
          "output_type": "stream",
          "text": [
            " 97%|█████████▋| 37/38 [00:03<00:00,  9.54it/s]/usr/local/lib/python3.7/dist-packages/sklearn/metrics/_classification.py:1580: UndefinedMetricWarning: F-score is ill-defined and being set to 0.0 due to no true nor predicted samples. Use `zero_division` parameter to control this behavior.\n",
            "  _warn_prf(average, \"true nor predicted\", \"F-score is\", len(true_sum))\n",
            "100%|██████████| 38/38 [00:03<00:00,  9.72it/s]\n"
          ]
        },
        {
          "name": "stdout",
          "output_type": "stream",
          "text": [
            "Epoch Average val loss :  0.4738092218574725\n",
            "Epoch Average val accuracy :  0.79\n",
            "Epoch Average val f1 :  0.80\n",
            "\t[!] The best checkpoint is updated.\n",
            "------------------------------\n",
            "Epoch : 2 in 10\n"
          ]
        },
        {
          "name": "stderr",
          "output_type": "stream",
          "text": []
        },
        {
          "name": "stdout",
          "output_type": "stream",
          "text": [
            "Epoch Average train loss :  0.24220527511561055\n",
            "Epoch Average train accuracy :   0.91\n",
            "Epoch Average train f1 score :   0.91\n"
          ]
        },
        {
          "name": "stderr",
          "output_type": "stream",
          "text": [
            " 97%|█████████▋| 37/38 [00:03<00:00,  9.54it/s]/usr/local/lib/python3.7/dist-packages/sklearn/metrics/_classification.py:1580: UndefinedMetricWarning: F-score is ill-defined and being set to 0.0 due to no true nor predicted samples. Use `zero_division` parameter to control this behavior.\n",
            "  _warn_prf(average, \"true nor predicted\", \"F-score is\", len(true_sum))\n",
            "100%|██████████| 38/38 [00:03<00:00,  9.75it/s]\n"
          ]
        },
        {
          "name": "stdout",
          "output_type": "stream",
          "text": [
            "Epoch Average val loss :  0.5015455279499292\n",
            "Epoch Average val accuracy :  0.79\n",
            "Epoch Average val f1 :  0.80\n",
            "------------------------------\n",
            "Epoch : 3 in 10\n"
          ]
        },
        {
          "name": "stderr",
          "output_type": "stream",
          "text": []
        },
        {
          "name": "stdout",
          "output_type": "stream",
          "text": [
            "Epoch Average train loss :  0.15698193837942062\n",
            "Epoch Average train accuracy :   0.95\n",
            "Epoch Average train f1 score :   0.95\n"
          ]
        },
        {
          "name": "stderr",
          "output_type": "stream",
          "text": [
            " 97%|█████████▋| 37/38 [00:03<00:00,  9.54it/s]/usr/local/lib/python3.7/dist-packages/sklearn/metrics/_classification.py:1580: UndefinedMetricWarning: F-score is ill-defined and being set to 0.0 due to no true nor predicted samples. Use `zero_division` parameter to control this behavior.\n",
            "  _warn_prf(average, \"true nor predicted\", \"F-score is\", len(true_sum))\n",
            "100%|██████████| 38/38 [00:03<00:00,  9.75it/s]\n"
          ]
        },
        {
          "name": "stdout",
          "output_type": "stream",
          "text": [
            "Epoch Average val loss :  0.5574892314248964\n",
            "Epoch Average val accuracy :  0.80\n",
            "Epoch Average val f1 :  0.80\n",
            "------------------------------\n",
            "Epoch : 4 in 10\n"
          ]
        },
        {
          "name": "stderr",
          "output_type": "stream",
          "text": []
        },
        {
          "name": "stdout",
          "output_type": "stream",
          "text": [
            "Epoch Average train loss :  0.1217587453302467\n",
            "Epoch Average train accuracy :   0.96\n",
            "Epoch Average train f1 score :   0.96\n"
          ]
        },
        {
          "name": "stderr",
          "output_type": "stream",
          "text": [
            "100%|██████████| 38/38 [00:03<00:00,  9.71it/s]\n"
          ]
        },
        {
          "name": "stdout",
          "output_type": "stream",
          "text": [
            "Epoch Average val loss :  0.6857965873358282\n",
            "Epoch Average val accuracy :  0.80\n",
            "Epoch Average val f1 :  0.81\n",
            "------------------------------\n",
            "Epoch : 5 in 10\n"
          ]
        },
        {
          "name": "stderr",
          "output_type": "stream",
          "text": []
        },
        {
          "name": "stdout",
          "output_type": "stream",
          "text": [
            "Epoch Average train loss :  0.07284578325590868\n",
            "Epoch Average train accuracy :   0.98\n",
            "Epoch Average train f1 score :   0.98\n"
          ]
        },
        {
          "name": "stderr",
          "output_type": "stream",
          "text": [
            " 97%|█████████▋| 37/38 [00:03<00:00,  9.53it/s]/usr/local/lib/python3.7/dist-packages/sklearn/metrics/_classification.py:1580: UndefinedMetricWarning: F-score is ill-defined and being set to 0.0 due to no true nor predicted samples. Use `zero_division` parameter to control this behavior.\n",
            "  _warn_prf(average, \"true nor predicted\", \"F-score is\", len(true_sum))\n",
            "100%|██████████| 38/38 [00:03<00:00,  9.73it/s]"
          ]
        },
        {
          "name": "stdout",
          "output_type": "stream",
          "text": [
            "Epoch Average val loss :  0.8542954327146474\n",
            "Epoch Average val accuracy :  0.80\n",
            "Epoch Average val f1 :  0.80\n",
            "\t[!] Early Stop\n"
          ]
        },
        {
          "name": "stderr",
          "output_type": "stream",
          "text": [
            "\n"
          ]
        },
        {
          "data": {
            "text/html": [
              "Waiting for W&B process to finish... <strong style=\"color:green\">(success).</strong>"
            ],
            "text/plain": [
              "<IPython.core.display.HTML object>"
            ]
          },
          "metadata": {},
          "output_type": "display_data"
        },
        {
          "data": {
            "text/html": [
              "<style>\n",
              "    table.wandb td:nth-child(1) { padding: 0 10px; text-align: left ; width: auto;} td:nth-child(2) {text-align: left ; width: 100%}\n",
              "    .wandb-row { display: flex; flex-direction: row; flex-wrap: wrap; justify-content: flex-start; width: 100% }\n",
              "    .wandb-col { display: flex; flex-direction: column; flex-basis: 100%; flex: 1; padding: 10px; }\n",
              "    </style>\n",
              "<div class=\"wandb-row\"><div class=\"wandb-col\"><h3>Run history:</h3><br/><table class=\"wandb\"><tr><td>train/accuracy</td><td>▁▅▇▇█</td></tr><tr><td>train/f1 score</td><td>▁▆▇▇█</td></tr><tr><td>train/loss</td><td>█▄▃▂▁</td></tr><tr><td>val/accuracy</td><td>▁▂▆▄█</td></tr><tr><td>val/f1 score</td><td>▄▃▁█▅</td></tr><tr><td>val/loss</td><td>▁▂▃▅█</td></tr></table><br/></div><div class=\"wandb-col\"><h3>Run summary:</h3><br/><table class=\"wandb\"><tr><td>train/accuracy</td><td>0.98024</td></tr><tr><td>train/f1 score</td><td>0.98013</td></tr><tr><td>train/loss</td><td>0.07285</td></tr><tr><td>val/accuracy</td><td>0.80469</td></tr><tr><td>val/f1 score</td><td>0.80429</td></tr><tr><td>val/loss</td><td>0.8543</td></tr></table><br/></div></div>"
            ],
            "text/plain": [
              "<IPython.core.display.HTML object>"
            ]
          },
          "metadata": {},
          "output_type": "display_data"
        },
        {
          "data": {
            "text/html": [
              "Synced <strong style=\"color:#cdcd00\">Training_Beep</strong>: <a href=\"https://wandb.ai/haypark/Cross%20dataset%20testing/runs/3d552ey0\" target=\"_blank\">https://wandb.ai/haypark/Cross%20dataset%20testing/runs/3d552ey0</a><br/>Synced 5 W&B file(s), 0 media file(s), 0 artifact file(s) and 0 other file(s)"
            ],
            "text/plain": [
              "<IPython.core.display.HTML object>"
            ]
          },
          "metadata": {},
          "output_type": "display_data"
        },
        {
          "data": {
            "text/html": [
              "Find logs at: <code>./wandb/run-20221016_164546-3d552ey0/logs</code>"
            ],
            "text/plain": [
              "<IPython.core.display.HTML object>"
            ]
          },
          "metadata": {},
          "output_type": "display_data"
        }
      ],
      "source": [
        "train(train_dataloader, test_dataloader, args)"
      ]
    },
    {
      "cell_type": "markdown",
      "metadata": {
        "id": "BbWz5nF8Y9sw"
      },
      "source": [
        "***"
      ]
    },
    {
      "cell_type": "code",
      "execution_count": null,
      "metadata": {
        "colab": {
          "base_uri": "https://localhost:8080/"
        },
        "id": "Sf2A9B9-apER",
        "outputId": "1561c3bf-8c93-4ba2-839a-b766c7be3ef6"
      },
      "outputs": [
        {
          "name": "stdout",
          "output_type": "stream",
          "text": [
            "./results/Unsmile/ckpt/epoch_2_evalAcc_89_evalF1_92.ckpt\n"
          ]
        }
      ],
      "source": [
        "ckpt_path = \"./results/\" + args.domain + '/ckpt'\n",
        "latest_ckpt = sorted(glob(ckpt_path + '/*.ckpt'))[-1]\n",
        "#latest_ckpt = './results/Beep/ckpt/epoch_2_evalAcc_81_evalF1_81.ckpt'\n",
        "checkpoint = torch.load(latest_ckpt)\n",
        "print(latest_ckpt)"
      ]
    },
    {
      "cell_type": "code",
      "execution_count": null,
      "metadata": {
        "id": "xGoq8AgLP08v"
      },
      "outputs": [],
      "source": [
        "def inference_try(inference_dataloader, model, device):\n",
        "    pred_sum = []\n",
        "    proba_sum = []\n",
        "    true_sum = []\n",
        "\n",
        "    model.eval()\n",
        "    total_loss, total_accuracy, total_f1 = 0, 0, 0\n",
        "    for batch in progress_bar(inference_dataloader):\n",
        "\n",
        "        batch = tuple(index.to(device) for index in batch)\n",
        "        \n",
        "        ids, masks, labels = batch\n",
        "\n",
        "        with torch.no_grad():\n",
        "            outputs = model(ids, token_type_ids=None, attention_mask=masks, labels=labels)\n",
        "        pred, proba = [], []\n",
        "        for logit in outputs.logits:\n",
        "          pred_temp = torch.argmax(logit).cpu().detach().item()\n",
        "          pred += [pred_temp]      \n",
        "          proba_temp = torch.sigmoid(logit[pred_temp]).cpu().detach().item()\n",
        "          proba += [proba_temp]\n",
        "      \n",
        "        true = [label for label in labels.cpu().numpy()]\n",
        "\n",
        "        pred_sum += pred\n",
        "        proba_sum += proba\n",
        "        true_sum += true\n",
        "\n",
        "        loss = outputs.loss\n",
        "        total_loss += loss.item()\n",
        "        \n",
        "        accuracy = accuracy_score(true, pred)\n",
        "        f1 = f1_score(true, pred)\n",
        "                \n",
        "        total_accuracy += accuracy\n",
        "        total_f1 += f1\n",
        "\n",
        "    avg_accuracy = total_accuracy/len(inference_dataloader)\n",
        "    avg_f1 = total_f1/len(inference_dataloader)\n",
        "    \n",
        "    print(f\"test AVG accuracy : {avg_accuracy: .2f}\")\n",
        "    print(f\"test AVG f1 : {avg_f1: .2f}\")\n",
        "\n",
        "    return pred_sum, true_sum, proba_sum"
      ]
    },
    {
      "cell_type": "code",
      "execution_count": null,
      "metadata": {
        "colab": {
          "base_uri": "https://localhost:8080/"
        },
        "id": "eoNTL0gIYboQ",
        "outputId": "887b5aae-f01f-4c4e-e890-2ac2ba22cab7"
      },
      "outputs": [
        {
          "name": "stdout",
          "output_type": "stream",
          "text": [
            "Test with :  HateScore\n"
          ]
        },
        {
          "name": "stderr",
          "output_type": "stream",
          "text": [
            "Some weights of the model checkpoint at beomi/KcELECTRA-base were not used when initializing ElectraForSequenceClassification: ['discriminator_predictions.dense_prediction.bias', 'discriminator_predictions.dense_prediction.weight', 'discriminator_predictions.dense.bias', 'discriminator_predictions.dense.weight']\n",
            "- This IS expected if you are initializing ElectraForSequenceClassification from the checkpoint of a model trained on another task or with another architecture (e.g. initializing a BertForSequenceClassification model from a BertForPreTraining model).\n",
            "- This IS NOT expected if you are initializing ElectraForSequenceClassification from the checkpoint of a model that you expect to be exactly identical (initializing a BertForSequenceClassification model from a BertForSequenceClassification model).\n",
            "Some weights of ElectraForSequenceClassification were not initialized from the model checkpoint at beomi/KcELECTRA-base and are newly initialized: ['classifier.out_proj.weight', 'classifier.dense.weight', 'classifier.dense.bias', 'classifier.out_proj.bias']\n",
            "You should probably TRAIN this model on a down-stream task to be able to use it for predictions and inference.\n"
          ]
        },
        {
          "name": "stdout",
          "output_type": "stream",
          "text": [
            "A100-SXM4-40GB available\n"
          ]
        }
      ],
      "source": [
        "# Ready for Inference\n",
        "\n",
        "ids, masks, labels = preprocess(args, mode='inference')\n",
        "inference_dataloader = build_dataloader(ids, masks, labels, args, mode='inference')\n",
        "\n",
        "tokenizer = AutoTokenizer.from_pretrained(\"beomi/KcELECTRA-base\")\n",
        "model = AutoModelForSequenceClassification.from_pretrained(\"beomi/KcELECTRA-base\")\n",
        "model.load_state_dict(checkpoint)\n",
        "\n",
        "if torch.cuda.is_available():\n",
        "    device = torch.device(\"cuda\")\n",
        "    print(f\"{torch.cuda.get_device_name(0)} available\")\n",
        "    model = model.cuda()\n",
        "else:\n",
        "    device = torch.device(\"cpu\")\n",
        "    print(\"no GPU available\")\n",
        "    model = model"
      ]
    },
    {
      "cell_type": "code",
      "execution_count": null,
      "metadata": {
        "colab": {
          "base_uri": "https://localhost:8080/",
          "height": 72
        },
        "id": "sSN6dzAmRi6d",
        "outputId": "5b934a45-9a18-4505-a6cb-b0d5828b9dcd"
      },
      "outputs": [
        {
          "data": {
            "text/html": [
              "\n",
              "<style>\n",
              "    /* Turns off some styling */\n",
              "    progress {\n",
              "        /* gets rid of default border in Firefox and Opera. */\n",
              "        border: none;\n",
              "        /* Needs to be in here for Safari polyfill so background images work as expected. */\n",
              "        background-size: auto;\n",
              "    }\n",
              "    progress:not([value]), progress:not([value])::-webkit-progress-bar {\n",
              "        background: repeating-linear-gradient(45deg, #7e7e7e, #7e7e7e 10px, #5c5c5c 10px, #5c5c5c 20px);\n",
              "    }\n",
              "    .progress-bar-interrupted, .progress-bar-interrupted::-webkit-progress-bar {\n",
              "        background: #F44336;\n",
              "    }\n",
              "</style>\n"
            ],
            "text/plain": [
              "<IPython.core.display.HTML object>"
            ]
          },
          "metadata": {},
          "output_type": "display_data"
        },
        {
          "data": {
            "text/html": [
              "\n",
              "    <div>\n",
              "      <progress value='120' class='' max='120' style='width:300px; height:20px; vertical-align: middle;'></progress>\n",
              "      100.00% [120/120 00:12&lt;00:00]\n",
              "    </div>\n",
              "    "
            ],
            "text/plain": [
              "<IPython.core.display.HTML object>"
            ]
          },
          "metadata": {},
          "output_type": "display_data"
        },
        {
          "name": "stdout",
          "output_type": "stream",
          "text": [
            "test AVG accuracy :  0.77\n",
            "test AVG f1 :  0.36\n"
          ]
        }
      ],
      "source": [
        "#Start Inference\n",
        "pred, true, proba = inference_try(inference_dataloader, model, device) "
      ]
    },
    {
      "cell_type": "code",
      "execution_count": null,
      "metadata": {
        "id": "IfmVgNKvTGxA"
      },
      "outputs": [],
      "source": [
        "temp = pd.read_csv(args.testing_domain, sep='\\t')\n",
        "temp['pred'] = pred\n",
        "temp['probability'] = np.round(proba, 2)\n",
        "temp.to_csv('./results/' + args.domain + '/to_' + args.test + '.csv')"
      ]
    },
    {
      "cell_type": "code",
      "execution_count": null,
      "metadata": {
        "colab": {
          "base_uri": "https://localhost:8080/",
          "height": 385
        },
        "id": "vXF23fwnkR9S",
        "outputId": "13c8059d-5850-45ff-a69f-229679a7060f"
      },
      "outputs": [
        {
          "data": {
            "image/png": "[encoded data removed]",
            "text/plain": [
              "<Figure size 720x432 with 2 Axes>"
            ]
          },
          "metadata": {},
          "output_type": "display_data"
        }
      ],
      "source": [
        "plt.figure(figsize = (10,6))\n",
        "confusion = confusion_matrix(true, pred, labels=[0,1])\n",
        "sns.set(font_scale=1.5)\n",
        "splot = sns.heatmap(confusion, \n",
        "                      annot=True, \n",
        "                      cmap='Blues', \n",
        "                      fmt='d', \n",
        "                      yticklabels = ['Not Hate(real)', 'Hate(real)'],\n",
        "                      xticklabels = ['Not Hate(pred)', 'Hate(pred)'])\n",
        "sfig = splot.get_figure()\n",
        "sfig.savefig('./results/' + args.domain + '/to_' + args.test + '_new.png')"
      ]
    }
  ],
  "metadata": {
    "accelerator": "GPU",
    "colab": {
      "provenance": []
    },
    "gpuClass": "premium",
    "kernelspec": {
      "display_name": "Python 3.8.5 64-bit",
      "language": "python",
      "name": "python3"
    },
    "language_info": {
      "name": "python",
      "version": "3.8.5"
    },
    "vscode": {
      "interpreter": {
        "hash": "082e9a3bcad0a290d0001e938aa60b99250c6c2ef33a923c00b70f9826caf4b7"
      }
    }
  },
  "nbformat": 4,
  "nbformat_minor": 0
}
